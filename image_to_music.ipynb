{
 "cells": [
  {
   "cell_type": "code",
   "execution_count": 26,
   "metadata": {},
   "outputs": [],
   "source": [
    "from pydub import AudioSegment\n",
    "from pydub.generators import Sine\n",
    "import math\n",
    "\n",
    "def hex_to_rgb(hex_color):\n",
    "    hex_color = hex_color.lstrip('0x')\n",
    "    return tuple(int(hex_color[i:i+2], 16) for i in (0, 2, 4))\n",
    "\n",
    "def color_distance(rgb1, rgb2):\n",
    "    \"\"\"Calculate the Euclidean distance between two RGB colors.\"\"\"\n",
    "    return math.sqrt(sum((c1 - c2) ** 2 for c1, c2 in zip(rgb1, rgb2)))\n",
    "\n",
    "def closest_color(rgb, color_map):\n",
    "    \"\"\"Find the closest color in the color_map to the given RGB color.\"\"\"\n",
    "    closest_colors = sorted(color_map.keys(), key=lambda color: color_distance(rgb, hex_to_rgb(color)))\n",
    "    return closest_colors[0]\n",
    "\n",
    "\n",
    "def image_to_music(main_colors, pixels):\n",
    "    color_to_freq_map = {\n",
    "        hex(0x0843a1): 261.63,  # C4\n",
    "        hex(0xffffff): 293.66,  # D4\n",
    "        hex(0xde0b16): 329.63,  # E4\n",
    "    }\n",
    "\n",
    "    song = AudioSegment.silent(duration=0)  # Start with a silent segment\n",
    "    note_duration = 1000  # 1 second per note\n",
    "\n",
    "    for idx in pixels:\n",
    "        hex_color = main_colors[idx]\n",
    "        rgb_color = hex_to_rgb(hex_color)\n",
    "        closest_hex = closest_color(rgb_color, color_to_freq_map)\n",
    "        freq = color_to_freq_map[closest_hex]\n",
    "        note = Sine(freq).to_audio_segment(duration=note_duration)\n",
    "        song += note\n",
    "\n",
    "\n",
    "    output_file = \"output_song.wav\"\n",
    "    song.export(output_file, format=\"wav\")\n",
    "\n",
    "\n",
    "    print(main_colors)\n",
    "    print(pixels)"
   ]
  },
  {
   "cell_type": "code",
   "execution_count": 27,
   "metadata": {},
   "outputs": [
    {
     "data": {
      "text/plain": [
       "(132, 58, 1)"
      ]
     },
     "execution_count": 27,
     "metadata": {},
     "output_type": "execute_result"
    }
   ],
   "source": [
    "hex_to_rgb(hex(0x0843a1))"
   ]
  },
  {
   "cell_type": "code",
   "execution_count": 28,
   "metadata": {},
   "outputs": [
    {
     "name": "stdout",
     "output_type": "stream",
     "text": [
      "['0x843a1', '0xffffff', '0xde0b16']\n",
      "[0, 1, 2]\n"
     ]
    }
   ],
   "source": [
    "image_to_music([hex(0x0843a1),hex(0xffffff), hex(0xde0b16)], [0, 1, 2])"
   ]
  }
 ],
 "metadata": {
  "kernelspec": {
   "display_name": "image-to-music",
   "language": "python",
   "name": "python3"
  },
  "language_info": {
   "codemirror_mode": {
    "name": "ipython",
    "version": 3
   },
   "file_extension": ".py",
   "mimetype": "text/x-python",
   "name": "python",
   "nbconvert_exporter": "python",
   "pygments_lexer": "ipython3",
   "version": "3.12.2"
  }
 },
 "nbformat": 4,
 "nbformat_minor": 2
}
