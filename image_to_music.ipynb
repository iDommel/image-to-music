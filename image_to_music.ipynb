{
 "cells": [
  {
   "cell_type": "code",
   "execution_count": 138,
   "metadata": {},
   "outputs": [],
   "source": [
    "from pydub import AudioSegment\n",
    "from pydub.generators import Sine\n",
    "import math\n",
    "\n",
    "def hex_to_rgb(hex_color):\n",
    "    hex_color = hex_color.lstrip('#')\n",
    "    return tuple(int(hex_color[i:i+2], 16) for i in (0, 2, 4))\n",
    "\n",
    "def rgb_to_hex(rgb):\n",
    "    \"\"\"Convert an RGB color to hexadecimal format.\"\"\"\n",
    "    return '#{:02x}{:02x}{:02x}'.format(*rgb)\n",
    "\n",
    "def color_distance(rgb1, rgb2):\n",
    "    \"\"\"Calculate the Euclidean distance between two RGB colors.\"\"\"\n",
    "    return math.sqrt(sum((c1 - c2) ** 2 for c1, c2 in zip(rgb1, rgb2)))\n",
    "\n",
    "def closest_color(rgb, color_map):\n",
    "    \"\"\"Find the closest color in the color_map to the given RGB color.\"\"\"\n",
    "    closest_colors = sorted(color_map.keys(), key=lambda color: color_distance(rgb, hex_to_rgb(color)))\n",
    "    return closest_colors[0]"
   ]
  },
  {
   "cell_type": "code",
   "execution_count": 139,
   "metadata": {},
   "outputs": [],
   "source": [
    "color_to_freq_map = {\n",
    "    '#FF0000': 261.63,  # C - Red\n",
    "    '#FFA500': 392.00,  # G - Orange-pink\n",
    "    '#FFFF00': 293.66,  # D - Yellow\n",
    "    '#008000': 440.00,  # A - Green\n",
    "    '#ADD8E6': 329.63,  # E - Whitish-blue\n",
    "    '#87CEEB': 493.88,  # B - Similar to E\n",
    "    '#0000FF': 369.99,  # F♯ - Blue, bright\n",
    "    '#EE82EE': 277.18,  # D♭ - Violet\n",
    "    '#800080': 415.30,  # A♭ - Purplish-violet\n",
    "    '#B0C4DE': 311.13,  # E♭ - Steel color with metallic sheen\n",
    "    '#5F9EA0': 466.16,  # B♭ - Similar to E flat\n",
    "    '#8B0000': 349.23,  # F - Red, dark\n",
    "}\n",
    "\n"
   ]
  },
  {
   "cell_type": "code",
   "execution_count": 140,
   "metadata": {},
   "outputs": [],
   "source": [
    "def image_to_music(main_colors, pixels, note_duration=1000):\n",
    "    # Define the minimum length as a percentage of the note_duration\n",
    "    min_length_percentage = 0.05\n",
    "    min_note_length = note_duration * min_length_percentage\n",
    "\n",
    "    song = AudioSegment.silent(duration=0)  # Start with a silent segment\n",
    "\n",
    "    for row in pixels:\n",
    "        row_length = len(row)\n",
    "        current_color = main_colors[row[0]]\n",
    "        current_count = 1\n",
    "\n",
    "        note_groups = []\n",
    "\n",
    "        # Iterate over the row to group colors\n",
    "        for idx in row[1:]:\n",
    "            hex_color = main_colors[idx]\n",
    "            if hex_color == current_color:\n",
    "                current_count += 1\n",
    "            else:\n",
    "                # Process the previous group\n",
    "                note_groups.append((current_color, current_count))\n",
    "                current_color = hex_color\n",
    "                current_count = 1\n",
    "        # Add the last color group\n",
    "        note_groups.append((current_color, current_count))\n",
    "\n",
    "        # Calculate the total length for notes that are above the minimum length\n",
    "        total_above_min = sum(count for color, count in note_groups if count / row_length >= min_length_percentage)\n",
    "\n",
    "        # Generate notes\n",
    "        for hex_color, count in note_groups:\n",
    "            proportion = count / row_length\n",
    "            if proportion < min_length_percentage:\n",
    "                note_time = min_note_length\n",
    "            else:\n",
    "                note_time = note_duration * (count / total_above_min)\n",
    "\n",
    "            rgb_color = hex_to_rgb(hex_color)\n",
    "            closest_hex = closest_color(rgb_color, color_to_freq_map)\n",
    "            freq = color_to_freq_map[closest_hex]\n",
    "            note = Sine(freq).to_audio_segment(duration=int(note_time))\n",
    "            song += note\n",
    "\n",
    "    output_file = \"output_song.wav\"\n",
    "    song.export(output_file, format=\"wav\")\n",
    "\n",
    "    print(\"Generated music saved to:\", output_file)\n",
    "    return output_file  # To allow accessing the output location\n"
   ]
  },
  {
   "cell_type": "code",
   "execution_count": 141,
   "metadata": {},
   "outputs": [],
   "source": [
    "from PIL import Image\n",
    "import numpy as np\n",
    "from sklearn.cluster import KMeans\n",
    "\n",
    "def load_and_cluster(path, n_clusters, display=False):\n",
    "    image = Image.open(path)\n",
    "    x, y = image.size\n",
    "    \n",
    "    h = 150 / float(y)\n",
    "\n",
    "    redim = min(x, h)\n",
    "\n",
    "    new_h = int(y * redim)\n",
    "\n",
    "    image = image.resize((x, new_h), Image.ANTIALIAS)\n",
    "\n",
    "    if image.mode != 'RGB':\n",
    "        image = image.convert('RGB')\n",
    "\n",
    "    pixels = list(image.getdata())\n",
    "    pixels_list = [pixels[i * x:(i + 1) * x] for i in range(y)]\n",
    "    image_array = np.array(image)\n",
    "    pixels = image_array.reshape(-1, 3)\n",
    "\n",
    "    kmeans = KMeans(n_clusters=n_clusters)\n",
    "    kmeans.fit(pixels)\n",
    "    labels = kmeans.labels_\n",
    "\n",
    "    for i in range(y):\n",
    "        for j in range(x):\n",
    "            pixel_index = i * x + j\n",
    "            pixels_list[i][j] = labels[pixel_index]\n",
    "    centers = [rgb_to_hex(i) for i in kmeans.cluster_centers_.astype(int)]\n",
    "    return centers, pixels_list"
   ]
  },
  {
   "cell_type": "code",
   "execution_count": 142,
   "metadata": {},
   "outputs": [
    {
     "name": "stdout",
     "output_type": "stream",
     "text": [
      "['#ed2939', '#fefefe', '#002395']\n"
     ]
    }
   ],
   "source": [
    "main_colors, pixels_list = load_and_cluster(\"Flag_of_France.png\", 3)\n",
    "print(main_colors)"
   ]
  },
  {
   "cell_type": "code",
   "execution_count": 143,
   "metadata": {},
   "outputs": [
    {
     "name": "stdout",
     "output_type": "stream",
     "text": [
      "Generated music saved to: output_song.wav\n"
     ]
    },
    {
     "data": {
      "text/plain": [
       "'output_song.wav'"
      ]
     },
     "execution_count": 143,
     "metadata": {},
     "output_type": "execute_result"
    }
   ],
   "source": [
    "image_to_music(main_colors, pixels_list)"
   ]
  }
 ],
 "metadata": {
  "kernelspec": {
   "display_name": "Python 3.10.12 64-bit",
   "language": "python",
   "name": "python3"
  },
  "language_info": {
   "codemirror_mode": {
    "name": "ipython",
    "version": 3
   },
   "file_extension": ".py",
   "mimetype": "text/x-python",
   "name": "python",
   "nbconvert_exporter": "python",
   "pygments_lexer": "ipython3",
   "version": "3.10.12"
  },
  "vscode": {
   "interpreter": {
    "hash": "916dbcbb3f70747c44a77c7bcd40155683ae19c65e1c03b4aa3499c5328201f1"
   }
  }
 },
 "nbformat": 4,
 "nbformat_minor": 2
}
